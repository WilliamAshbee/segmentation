{
  "nbformat": 4,
  "nbformat_minor": 0,
  "metadata": {
    "colab": {
      "name": "figure8.ipynb",
      "provenance": [],
      "collapsed_sections": [],
      "authorship_tag": "ABX9TyPZAV0iRFw7M8j/T/fJ5vpX",
      "include_colab_link": true
    },
    "kernelspec": {
      "name": "python3",
      "display_name": "Python 3"
    }
  },
  "cells": [
    {
      "cell_type": "markdown",
      "metadata": {
        "id": "view-in-github",
        "colab_type": "text"
      },
      "source": [
        "<a href=\"https://colab.research.google.com/github/WilliamAshbee/segmentation/blob/master/figure8.ipynb\" target=\"_parent\"><img src=\"https://colab.research.google.com/assets/colab-badge.svg\" alt=\"Open In Colab\"/></a>"
      ]
    },
    {
      "cell_type": "code",
      "metadata": {
        "colab": {
          "base_uri": "https://localhost:8080/",
          "height": 265
        },
        "id": "J71duByUSfL_",
        "outputId": "c496ce6c-c269-466b-e787-5fe145575801"
      },
      "source": [
        "#add donut here\n",
        "import torch\n",
        "import numpy as np\n",
        "import pylab as plt\n",
        "from skimage import filters\n",
        "import math\n",
        "\n",
        "global numpoints\n",
        "numpoints = 1000\n",
        "side = 32\n",
        "\n",
        "rows = torch.zeros(32,32)\n",
        "columns = torch.zeros(32,32)\n",
        "\n",
        "\n",
        "for i in range(32):\n",
        "    columns[:,i] = i\n",
        "    rows[i,:] = i\n",
        "\n",
        "\n",
        "def donut_matrix(length = 10):\n",
        "    radiusMax = side /3\n",
        "    w = 1\n",
        "    sigmas = [None, 1]\n",
        "    \n",
        "    canvas = torch.zeros((length,side, side))\n",
        "    r0 = torch.tensor(np.random.uniform(side/4, side/3, length))\n",
        "\n",
        "    radii = torch.zeros((length,numpoints))\n",
        "    radii[:, :] = r0.unsqueeze(1)\n",
        "    \n",
        "    ind = [x for x in range(numpoints)]\n",
        "\n",
        "    theta = torch.FloatTensor(ind)\n",
        "    theta *= math.pi*2.0/(float)(numpoints)\n",
        "    \n",
        "    for i in range(1,length):\n",
        "        a = np.random.uniform(1.0,3.0)*torch.sin(np.random.uniform(20.0)*theta+np.random.uniform(1000.0))\n",
        "        radii[i,:] += a\n",
        "    \n",
        "    assert torch.min(radii)>0\n",
        "    rmaxs = radii.max(axis = 1)[0]\n",
        "    pmins = rmaxs+1.0\n",
        "    pmaxs = side-rmaxs-1.0\n",
        "    x0 = np.random.uniform(pmins,pmaxs)\n",
        "    y0 = np.random.uniform(pmins,pmaxs)\n",
        "    x0[:]=side/2\n",
        "    y0[:]=side/2\n",
        "    x0 = torch.tensor(x0)\n",
        "    y0 = torch.tensor(y0)\n",
        "    \n",
        "    x0 = x0.unsqueeze(1)\n",
        "    y0 = y0.unsqueeze(1)\n",
        "    xrfactors = torch.cos(theta).unsqueeze(0)\n",
        "    yrfactors = torch.sin(theta).unsqueeze(0)\n",
        "    \n",
        "    print('x0_y0_r_xrf_yrf',x0.shape,y0.shape,radii.shape,xrfactors.shape,yrfactors.shape)\n",
        "\n",
        "    x = (x0+(xrfactors*radii))\n",
        "    y = (y0+(yrfactors*radii))\n",
        "    assert x.shape == (length,numpoints)\n",
        "    assert y.shape == (length,numpoints)\n",
        "    assert torch.sum(x[x>(side-1)])==0 \n",
        "    assert torch.sum(x[x<0])==0 \n",
        "    assert torch.sum(y[y>(side-1)])==0 \n",
        "    assert torch.sum(y[y<0])==0 \n",
        "    \n",
        "    points = torch.zeros(length,numpoints,2)\n",
        "    for l in range(length):\n",
        "        canvas[l,y[l,:].type(torch.LongTensor),x[l,:].type(torch.LongTensor)]=1.0\n",
        "        points[l,:,0] = x[l,:]#modified for lstm discriminator\n",
        "        points[l,:,1] = y[l,:]#modified for lstm discriminator \n",
        "    \n",
        "    \n",
        "    return {\n",
        "        'canvas': canvas, \n",
        "        'points':points.type(torch.FloatTensor)}\n",
        "\n",
        "\n",
        "def plot_all( sample = None, model = None, labels = None):\n",
        "    img = sample[:,:].squeeze().cpu().numpy()\n",
        "    plt.imshow(img, cmap=plt.cm.gray_r)\n",
        "    if model != None:\n",
        "        with torch.no_grad():\n",
        "            global numpoints\n",
        "\n",
        "            sample = torch.stack([sample for i in range(64)],dim = 0).cuda()\n",
        "            pred = model(sample,torch.zeros(64,1000,2).cuda())#come back to this\n",
        "            predres = numpoints\n",
        "            X = pred[0,:,0]\n",
        "            Y = pred[0,:,1]\n",
        "            \n",
        "            s = [.0001 for x in range(predres)]\n",
        "            \n",
        "            assert len(s) == predres\n",
        "            c = ['red' for x in range(predres)]\n",
        "            assert len(c) == predres\n",
        "            Y = Y.cuda()\n",
        "            X = X.cuda()\n",
        "            plt.plot(X.cpu(),Y.cpu(),',-',c='red', ms=.1, lw=0.1) \n",
        "\n",
        "    else:\n",
        "        X = labels[:,0]\n",
        "        Y = labels[:,1]\n",
        "        s = [.0001 for x in range(numpoints)]\n",
        "        c = ['red' for x in range(numpoints)]\n",
        "        plt.plot(X.cpu(),Y.cpu(),',-',c='red',  ms=.1, lw=0.1) \n",
        "\n",
        "\n",
        "class DonutDataset(torch.utils.data.Dataset):\n",
        "    def __init__(self, length = 10):\n",
        "        self.length = length\n",
        "        self.values = donut_matrix(length)\n",
        "        assert self.values['canvas'].shape[0] == self.length\n",
        "        assert self.values['points'].shape[0] == self.length\n",
        "        \n",
        "        count = 0\n",
        "        for i in range(self.length):\n",
        "          a = self[i]\n",
        "          c = a[0]\n",
        "          for el in a[1]:\n",
        "            y,x = (int)(el[1]),(int)(el[0])\n",
        "            if x < side-2 and x > 2 and y < side-2 and y > 2: \n",
        "              if c[y,x] != 1 and \\\n",
        "                c[y+1,x] != 1 and c[y+1,-1+x] != 1 and c[y+1,1+x] != 1 and \\\n",
        "                c[y-1,x] != 1 and c[y,-1+x] != 1 and c[y,1+x] != 1:\n",
        "                count+=1\n",
        "        assert count ==0\n",
        "\n",
        "\n",
        "    def __len__(self):\n",
        "        return self.length\n",
        "\n",
        "\n",
        "    def __getitem__(self, idx):\n",
        "        canvas = self.values[\"canvas\"]\n",
        "        canvas = canvas[idx,:,:]\n",
        "        assert canvas.shape == (side,side)\n",
        "        points = self.values[\"points\"]\n",
        "        points = points[idx,:]\n",
        "        z = torch.zeros(numpoints,1)\n",
        "        points = torch.cat([points,z], dim = 1)\n",
        "        \n",
        "        return canvas, points\n",
        "    \n",
        "    @staticmethod\n",
        "    def displayCanvas(title,dataset, model):\n",
        "        for i in range(100):\n",
        "            sample, labels = dataset[i]\n",
        "            plt.subplot(10,10,i+1)\n",
        "            plot_all(sample = sample,model=model, labels = labels)\n",
        "            plt.axis('off')\n",
        "        plt.savefig(title,dpi=1200)\n",
        "        \n",
        "dataset = DonutDataset(length = 100)\n",
        "\n",
        "DonutDataset.displayCanvas('donut.png',dataset, model = None)"
      ],
      "execution_count": 1,
      "outputs": [
        {
          "output_type": "stream",
          "text": [
            "x0_y0_r_xrf_yrf torch.Size([100, 1]) torch.Size([100, 1]) torch.Size([100, 1000]) torch.Size([1, 1000]) torch.Size([1, 1000])\n"
          ],
          "name": "stdout"
        },
        {
          "output_type": "display_data",
          "data": {
            "image/png": "[encoded data removed]",
            "text/plain": [
              "<Figure size 432x288 with 100 Axes>"
            ]
          },
          "metadata": {
            "tags": [],
            "needs_background": "light"
          }
        }
      ]
    },
    {
      "cell_type": "code",
      "metadata": {
        "id": "WpUmuSb4aYMs"
      },
      "source": [
        "#https://math.stackexchange.com/questions/7988/the-function-that-draws-a-figure-eight"
      ],
      "execution_count": 2,
      "outputs": []
    },
    {
      "cell_type": "code",
      "metadata": {
        "id": "PfCDPgJJQ9XU"
      },
      "source": [
        ""
      ],
      "execution_count": 2,
      "outputs": []
    },
    {
      "cell_type": "markdown",
      "metadata": {
        "id": "YHmG4vbzRFWj"
      },
      "source": [
        "$ t\\in(-\\tfrac12\\pi,\\tfrac32\\pi)\\mapsto(\\cos t,\\sin t\\cos t)\\in\\mathbb R^2 $\n"
      ]
    },
    {
      "cell_type": "code",
      "metadata": {
        "id": "M-GrkQLNRGGH"
      },
      "source": [
        "import torch\n",
        "import matplotlib.pyplot as plt\n"
      ],
      "execution_count": 1,
      "outputs": []
    },
    {
      "cell_type": "code",
      "metadata": {
        "colab": {
          "base_uri": "https://localhost:8080/",
          "height": 299
        },
        "id": "P5uozAD5Rv1y",
        "outputId": "51572b56-13dc-41d5-9ac5-59b58507ee5c"
      },
      "source": [
        "t = torch.linspace(0,2*3.14159,100)\n",
        "x = t.cos()\n",
        "y = t.sin()*t.cos()\n",
        "randAddx = None\n",
        "randAddy = None\n",
        "randMultx = None\n",
        "randMulty = None\n",
        "\n",
        "randMultSinx = None\n",
        "randMultSiny = None\n",
        "randAddSinx = None\n",
        "randAddSiny = None\n",
        "x = x#+5\n",
        "y = y#+5\n",
        "plt.scatter(x,y,s=1)\n",
        "plt.xlim(-5,5)\n",
        "plt.ylim(-5,5)\n",
        "print(torch.max(x),torch.min(x))\n",
        "print(torch.max(y),torch.min(y))\n"
      ],
      "execution_count": 9,
      "outputs": [
        {
          "output_type": "stream",
          "text": [
            "tensor(1.) tensor(-0.9995)\n",
            "tensor(0.9999) tensor(-0.9999)\n"
          ],
          "name": "stdout"
        },
        {
          "output_type": "display_data",
          "data": {
            "image/png": "[encoded data removed]",
            "text/plain": [
              "<Figure size 432x288 with 1 Axes>"
            ]
          },
          "metadata": {
            "tags": [],
            "needs_background": "light"
          }
        }
      ]
    },
    {
      "cell_type": "code",
      "metadata": {
        "id": "WoigviP4Rx5i"
      },
      "source": [
        ""
      ],
      "execution_count": 4,
      "outputs": []
    }
  ]
}